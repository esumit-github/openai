{
 "cells": [
  {
   "cell_type": "markdown",
   "metadata": {},
   "source": [
    "**Sensing Alarm messages using openai**"
   ]
  },
  {
   "cell_type": "code",
   "execution_count": 1,
   "metadata": {},
   "outputs": [],
   "source": [
    "## importing the required libraries\n",
    "import openai\n",
    "import pandas as pd\n",
    "import os"
   ]
  },
  {
   "cell_type": "code",
   "execution_count": 2,
   "metadata": {},
   "outputs": [],
   "source": [
    "openai.api_key = os.getenv(\"OPENAI_API_KEY\")"
   ]
  },
  {
   "cell_type": "code",
   "execution_count": 14,
   "metadata": {},
   "outputs": [
    {
     "name": "stdout",
     "output_type": "stream",
     "text": [
      "\n",
      "\n",
      "Result: Alarm1 and Alarm2 exceeded the CPU_THRESHOLD of 55%\n"
     ]
    }
   ],
   "source": [
    "## Case-7  extenstion of Case-2.3\n",
    "\n",
    "response = openai.Completion.create(\n",
    "            model = 'text-davinci-003',\n",
    "            prompt = \"\"\"Act as an AI model to detect CPU_THRESHOLD which is greater than or equal to 55%:\n",
    "            Alarm1 CPU_THRESHOLD is 80%\n",
    "            Alarm2 CPU_THRESHOLD is 95%\n",
    "            Alarm3 CPU_THRESHOLD is 50%\"\"\",\n",
    "            max_tokens = 25,\n",
    "            temperature = 1,\n",
    "            n = 1\n",
    "        )\n",
    "#response\n",
    "print(response['choices'][0]['text'])\n"
   ]
  },
  {
   "cell_type": "code",
   "execution_count": 56,
   "metadata": {},
   "outputs": [],
   "source": [
    "#Chat Completion API\n",
    "#Messages would be in the form of key=value pairs\n",
    "#Case - 7\n",
    "response =   openai.ChatCompletion.create(\n",
    "        model = \"gpt-3.5-turbo-0613\",\n",
    "        messages = [{'role' : 'system','content':'Act as an AI assistant.'},\n",
    "                    {'role' : 'system','content': 'As an AI assistant you must detect alarms which are over 50%.'},\n",
    "                    {'role' : 'system','content': 'Label the alarms.'},\n",
    "                    {'role' : 'system','content': 'CPU_THRESHOLD less than 49% - Normal'},\n",
    "                    {'role' : 'system','content': 'CPU_THRESHOLD greater than 90% - Critical'},\n",
    "                    {'role' : 'system','content': 'CPU_THRESHOLD greater than or equal to 50% but less than 75% - Minor'},\n",
    "                    {'role' : 'system','content': 'CPU_THRESHOLD greater than 75% but less than 90% - Major'},\n",
    "                    {'role' : 'user','content':'Alarm1 CPU_THRESHOLD is 80%'},\n",
    "                    {'role' : 'user','content':'Alarm2 CPU_THRESHOLD is 95%'},\n",
    "                    {'role' : 'user','content':'Alarm3 CPU_THRESHOLD is 49%'},\n",
    "                    {'role' : 'user','content':'Alarm4 CPU_THRESHOLD is 52%'},\n",
    "                    {'role' : 'user','content':'How Many Major, Minor & Critical Alarms?'}\n",
    "                    ],\n",
    "    )"
   ]
  },
  {
   "cell_type": "code",
   "execution_count": 57,
   "metadata": {},
   "outputs": [
    {
     "data": {
      "text/plain": [
       "<OpenAIObject chat.completion id=chatcmpl-8Cr0UTDTnLfWDXj7KhTFGTTxcIoNb at 0x1ac3d1543b0> JSON: {\n",
       "  \"id\": \"chatcmpl-8Cr0UTDTnLfWDXj7KhTFGTTxcIoNb\",\n",
       "  \"object\": \"chat.completion\",\n",
       "  \"created\": 1698074386,\n",
       "  \"model\": \"gpt-3.5-turbo-0613\",\n",
       "  \"choices\": [\n",
       "    {\n",
       "      \"index\": 0,\n",
       "      \"message\": {\n",
       "        \"role\": \"assistant\",\n",
       "        \"content\": \"Based on the alarms provided, we have the following categorization:\\n\\n- Alarm1 (80%): Major\\n- Alarm2 (95%): Critical\\n- Alarm3 (49%): Normal\\n- Alarm4 (52%): Minor\\n\\nTherefore, we have 1 Major alarm, 1 Minor alarm, and 1 Critical alarm.\"\n",
       "      },\n",
       "      \"finish_reason\": \"stop\"\n",
       "    }\n",
       "  ],\n",
       "  \"usage\": {\n",
       "    \"prompt_tokens\": 168,\n",
       "    \"completion_tokens\": 69,\n",
       "    \"total_tokens\": 237\n",
       "  }\n",
       "}"
      ]
     },
     "execution_count": 57,
     "metadata": {},
     "output_type": "execute_result"
    }
   ],
   "source": [
    "response "
   ]
  },
  {
   "cell_type": "code",
   "execution_count": 58,
   "metadata": {},
   "outputs": [
    {
     "name": "stdout",
     "output_type": "stream",
     "text": [
      "Based on the alarms provided, we have the following categorization:\n",
      "\n",
      "- Alarm1 (80%): Major\n",
      "- Alarm2 (95%): Critical\n",
      "- Alarm3 (49%): Normal\n",
      "- Alarm4 (52%): Minor\n",
      "\n",
      "Therefore, we have 1 Major alarm, 1 Minor alarm, and 1 Critical alarm.\n"
     ]
    }
   ],
   "source": [
    "print(response['choices'][0]['message'].content)"
   ]
  },
  {
   "cell_type": "code",
   "execution_count": null,
   "metadata": {},
   "outputs": [],
   "source": [
    "import json\n",
    "\n"
   ]
  }
 ],
 "metadata": {
  "kernelspec": {
   "display_name": "Python 3",
   "language": "python",
   "name": "python3"
  },
  "language_info": {
   "codemirror_mode": {
    "name": "ipython",
    "version": 3
   },
   "file_extension": ".py",
   "mimetype": "text/x-python",
   "name": "python",
   "nbconvert_exporter": "python",
   "pygments_lexer": "ipython3",
   "version": "3.10.13"
  }
 },
 "nbformat": 4,
 "nbformat_minor": 2
}
